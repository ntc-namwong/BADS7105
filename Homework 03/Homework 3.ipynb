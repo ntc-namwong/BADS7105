{
 "cells": [
  {
   "cell_type": "code",
   "execution_count": 1,
   "id": "e96df136",
   "metadata": {},
   "outputs": [],
   "source": [
    "import glob\n",
    "import datetime\n",
    "import random\n",
    "import numpy as np\n",
    "import pandas as pd"
   ]
  },
  {
   "cell_type": "code",
   "execution_count": null,
   "id": "46a46d2a",
   "metadata": {},
   "outputs": [],
   "source": [
    "# Combined Excel files\n",
    "df = pd.DataFrame()\n",
    "\n",
    "for f in glob.glob('Raw Data/Activities_*xlsx'):\n",
    "    data = pd.read_excel(f)\n",
    "    data['File'] = f\n",
    "    df = df.append(data, ignore_index = True)\n",
    "\n",
    "for f in glob.glob('Raw Data/Activities_*xls'):\n",
    "    data = pd.read_excel(f)\n",
    "    data['File'] = f\n",
    "    df = df.append(data, ignore_index = True)"
   ]
  },
  {
   "cell_type": "code",
   "execution_count": null,
   "id": "7dee69a2",
   "metadata": {},
   "outputs": [],
   "source": [
    "df.to_excel('Combined_File.xlsx')"
   ]
  },
  {
   "cell_type": "code",
   "execution_count": 2,
   "id": "7df5ab2a",
   "metadata": {},
   "outputs": [],
   "source": [
    "# Create Scatter Coordination Table\n",
    "data = []\n",
    "df = pd.read_excel('Activities.xlsx')\n",
    "\n",
    "r = 5\n",
    "X = lambda i, a: 0 if a == 'Traveling' else round(r*np.cos(np.pi/2 - i*(2*np.pi)/(len(df['Label'].unique())-1)), 3)\n",
    "Y = lambda i, a: 0 if a == 'Traveling' else round(r*np.sin(np.pi/2 - i*(2*np.pi)/(len(df['Label'].unique())-1)), 3)\n",
    "\n",
    "for i, a in enumerate(np.sort(np.delete(df['Label'].unique(), np.where(df['Label'].unique() == 'Traveling'), axis=0))):\n",
    "    data.append([a, X(i, a), Y(i, a)])\n",
    "\n",
    "data.append(['Traveling', 0, 0])    \n",
    "df_coordinate = pd.DataFrame(data, columns = ['Activity', 'X', 'Y']).set_index('Activity')"
   ]
  },
  {
   "cell_type": "code",
   "execution_count": 3,
   "id": "00132e80",
   "metadata": {},
   "outputs": [],
   "source": [
    "df_coordinate.to_excel('Coordinate.xlsx')"
   ]
  },
  {
   "cell_type": "code",
   "execution_count": 8,
   "id": "7e5716a6",
   "metadata": {},
   "outputs": [],
   "source": [
    "# Resturcture Data for Power BI\n",
    "data = []\n",
    "df = pd.read_excel('Activities.xlsx')\n",
    "\n",
    "for s in df['Student'].unique():\n",
    "    df_s = df[df['Student'] == s]\n",
    "    for h in range(0, 24):\n",
    "        for m in range(0, 60, 15):\n",
    "            time_index = [i for i, j in enumerate(df[df['Student'] == s]['Time']) if j <= datetime.time(h, m)]\n",
    "            time_index = -1 if not time_index else max(time_index)\n",
    "            data.append([s,                                                    # Student\n",
    "                         datetime.time(h, m),                                  # Time\n",
    "                         df_s.iloc[time_index, df.columns.get_loc('Label')],   # Activity\n",
    "                         df_s.iloc[time_index, df.columns.get_loc('Pain')],    # Pain\n",
    "                         df_s.iloc[time_index, df.columns.get_loc('Gain')],    # Gain\n",
    "                         df_coordinate.loc[df_s.iloc[time_index, df.columns.get_loc('Label')], 'X'] + random.randrange(-220, 220, 1)/1000, # X\n",
    "                         df_coordinate.loc[df_s.iloc[time_index, df.columns.get_loc('Label')], 'Y'] + random.randrange(-220, 220, 1)/1000  # Y\n",
    "                        ])\n",
    "            \n",
    "df_timeline = pd.DataFrame(data, columns = ['Student', 'Time', 'Activity', 'Pain', 'Gain', 'X', 'Y'])"
   ]
  },
  {
   "cell_type": "code",
   "execution_count": 9,
   "id": "20c18998",
   "metadata": {},
   "outputs": [],
   "source": [
    "df_timeline.to_excel('Timeline.xlsx')"
   ]
  },
  {
   "cell_type": "code",
   "execution_count": 10,
   "id": "71cdb289",
   "metadata": {},
   "outputs": [],
   "source": [
    "# Create Top Activity Table\n",
    "df_count = df_timeline[['Time', 'Activity', 'Student']].groupby(['Time', 'Activity']).count().reset_index()\n",
    "df_count['Percent'] = df_count['Student']/len(df['Student'].unique())*100\n",
    "\n",
    "df_top = df_count[['Time', 'Student']].groupby(['Time']).max().reset_index()\n",
    "df_top = pd.merge(df_top, df_count, on = ['Time', 'Student'])\n",
    "df_top = df_top.drop(['Student', 'Percent'], axis = 1).drop_duplicates('Time')\n",
    "#df_top = pd.merge(df_top, df_timeline[['Time', 'Activity', 'Pain', 'Gain']], on = ['Time', 'Activity'])"
   ]
  }
 ],
 "metadata": {
  "kernelspec": {
   "display_name": "Python 3",
   "language": "python",
   "name": "python3"
  },
  "language_info": {
   "codemirror_mode": {
    "name": "ipython",
    "version": 3
   },
   "file_extension": ".py",
   "mimetype": "text/x-python",
   "name": "python",
   "nbconvert_exporter": "python",
   "pygments_lexer": "ipython3",
   "version": "3.8.8"
  }
 },
 "nbformat": 4,
 "nbformat_minor": 5
}
